{
 "cells": [
  {
   "cell_type": "code",
   "execution_count": 1,
   "id": "fa5a3fd1",
   "metadata": {},
   "outputs": [
    {
     "name": "stdout",
     "output_type": "stream",
     "text": [
      "코드 셀입니다.\n"
     ]
    }
   ],
   "source": [
    "print(\"코드 셀입니다.\")"
   ]
  },
  {
   "cell_type": "markdown",
   "id": "b7ed7afe",
   "metadata": {},
   "source": [
    "Markdown 셀입니다."
   ]
  },
  {
   "cell_type": "markdown",
   "id": "0b988b63",
   "metadata": {},
   "source": [
    "### 패키지 설치"
   ]
  },
  {
   "cell_type": "code",
   "execution_count": 2,
   "id": "6ae5a656",
   "metadata": {},
   "outputs": [
    {
     "name": "stdout",
     "output_type": "stream",
     "text": [
      "^C\n",
      "Requirement already satisfied: numpy in c:\\users\\a\\anaconda3\\envs\\tf\\lib\\site-packages (1.24.3)\n",
      "Requirement already satisfied: pandas in c:\\users\\a\\anaconda3\\envs\\tf\\lib\\site-packages (2.0.3)\n",
      "Requirement already satisfied: python-dateutil>=2.8.2 in c:\\users\\a\\anaconda3\\envs\\tf\\lib\\site-packages (from pandas) (2.9.0.post0)\n",
      "Requirement already satisfied: pytz>=2020.1 in c:\\users\\a\\anaconda3\\envs\\tf\\lib\\site-packages (from pandas) (2025.2)\n",
      "Requirement already satisfied: tzdata>=2022.1 in c:\\users\\a\\anaconda3\\envs\\tf\\lib\\site-packages (from pandas) (2025.2)\n",
      "Requirement already satisfied: numpy>=1.20.3 in c:\\users\\a\\anaconda3\\envs\\tf\\lib\\site-packages (from pandas) (1.24.3)\n",
      "Requirement already satisfied: six>=1.5 in c:\\users\\a\\anaconda3\\envs\\tf\\lib\\site-packages (from python-dateutil>=2.8.2->pandas) (1.16.0)\n"
     ]
    }
   ],
   "source": [
    "!pip install numpy\n",
    "!pip install pandas"
   ]
  },
  {
   "cell_type": "markdown",
   "id": "53f57adc",
   "metadata": {},
   "source": [
    "### 패키지 불러오기"
   ]
  },
  {
   "cell_type": "code",
   "execution_count": 3,
   "id": "520b365d",
   "metadata": {},
   "outputs": [],
   "source": [
    "import numpy as np\n",
    "import pandas as pd"
   ]
  },
  {
   "cell_type": "markdown",
   "id": "0f1834a9",
   "metadata": {},
   "source": [
    "### 작업 공간 설정"
   ]
  },
  {
   "cell_type": "code",
   "execution_count": null,
   "id": "76214a14",
   "metadata": {},
   "outputs": [
    {
     "name": "stdout",
     "output_type": "stream",
     "text": [
      "C:\\Users\\A\\Desktop\n"
     ]
    }
   ],
   "source": [
    "import os\n",
    "\n",
    "# 확인\n",
    "print(os.getcwd())\n",
    "\n",
    "# 변경\n",
    "os.chdir(\"c:/Users/A/OneDrive/바탕 화면/RA/Python Code\")"
   ]
  },
  {
   "cell_type": "markdown",
   "id": "aa6f5608",
   "metadata": {},
   "source": [
    "### 데이터 구조"
   ]
  },
  {
   "cell_type": "code",
   "execution_count": null,
   "id": "0cbb1ce1",
   "metadata": {},
   "outputs": [
    {
     "name": "stdout",
     "output_type": "stream",
     "text": [
      "<class 'list'>\n",
      "<class 'str'>\n"
     ]
    }
   ],
   "source": [
    "### 문자열 및 리스트\n",
    "\n",
    "x = [1, 2, 3]\n",
    "season = [\"봄\", \"여름\", \"가을\"]\n",
    "print(type(x))         # <class 'list'>\n",
    "print(type(season[0])) # <class 'str'>"
   ]
  },
  {
   "cell_type": "code",
   "execution_count": null,
   "id": "6a2b5666",
   "metadata": {},
   "outputs": [
    {
     "name": "stdout",
     "output_type": "stream",
     "text": [
      "float64\n",
      "<U1\n",
      "bool\n",
      "complex128\n"
     ]
    }
   ],
   "source": [
    "### 숫자 데이터 종류\n",
    "\n",
    "x = np.array([1, 2, 3.0])\n",
    "print(x.dtype)  # float64\n",
    "\n",
    "x = np.array([\"a\", \"b\"])\n",
    "print(x.dtype)  # <U1 (유니코드 문자열)\n",
    "\n",
    "x = np.array([True, False])\n",
    "print(x.dtype)  # bool\n",
    "\n",
    "x = np.array([3 + 2j])\n",
    "print(x.dtype)  # complex128"
   ]
  },
  {
   "cell_type": "code",
   "execution_count": null,
   "id": "5d0b4d2d",
   "metadata": {},
   "outputs": [
    {
     "name": "stdout",
     "output_type": "stream",
     "text": [
      "[1 2]\n"
     ]
    }
   ],
   "source": [
    "### 데이터 형변환\n",
    "\n",
    "x = np.array([1.2, 2.3])\n",
    "x = x.astype(int)  # float → int\n",
    "\n",
    "print(x)"
   ]
  },
  {
   "cell_type": "code",
   "execution_count": null,
   "id": "b6beb8ba",
   "metadata": {},
   "outputs": [
    {
     "name": "stdout",
     "output_type": "stream",
     "text": [
      "[1 2 3 4 5]\n",
      "[1 6]\n",
      "[[[ 1  2]\n",
      "  [ 3  4]\n",
      "  [ 5  6]]\n",
      "\n",
      " [[ 7  8]\n",
      "  [ 9 10]\n",
      "  [11 12]]]\n"
     ]
    }
   ],
   "source": [
    "### Array 다루기\n",
    "\n",
    "A = np.array([[1, 2, 3, 4, 5],\n",
    "              [6, 7, 8, 9, 10]])\n",
    "print(A[0])        # 첫 번째 행\n",
    "print(A[:, 0])     # 첫 번째 열\n",
    "\n",
    "B = np.array(range(1, 13)).reshape(2, 3, 2)  # 3차원 배열\n",
    "print(B)"
   ]
  },
  {
   "cell_type": "code",
   "execution_count": null,
   "id": "e449612a",
   "metadata": {},
   "outputs": [],
   "source": [
    "### Dictionary 다루기\n",
    "\n",
    "person = {\n",
    "    \"name\": \"홍길동\",\n",
    "    \"gender\": \"M\",\n",
    "    \"score\": [70, 80]\n",
    "}\n",
    "\n",
    "# 중첩 리스트\n",
    "students = [\n",
    "    {\"name\": \"A\", \"gender\": \"M\", \"score\": [70, 80]},\n",
    "    {\"name\": \"B\", \"gender\": \"F\", \"score\": [60, 70]}\n",
    "]"
   ]
  },
  {
   "cell_type": "code",
   "execution_count": null,
   "id": "84dbca12",
   "metadata": {},
   "outputs": [],
   "source": [
    "### 범주형 자료\n",
    "\n",
    "gender = pd.Series([\"M\", \"F\", \"M\"], dtype=\"category\")\n",
    "gender = gender.cat.set_categories([\"F\", \"M\"])"
   ]
  },
  {
   "cell_type": "code",
   "execution_count": null,
   "id": "ec908958",
   "metadata": {},
   "outputs": [
    {
     "name": "stdout",
     "output_type": "stream",
     "text": [
      "  name gender  height  score\n",
      "0    A      M     170     80\n",
      "1    B      F     165     95\n",
      "2    C      M     180     91\n"
     ]
    }
   ],
   "source": [
    "### 데이터프레임\n",
    "\n",
    "data = {\n",
    "    \"name\": [\"A\", \"B\", \"C\"],\n",
    "    \"gender\": [\"M\", \"F\", \"M\"],\n",
    "    \"height\": [170, 165, 180],\n",
    "    \"score\": [80, 95, 91]\n",
    "}\n",
    "df = pd.DataFrame(data)\n",
    "print(df)"
   ]
  },
  {
   "cell_type": "code",
   "execution_count": 11,
   "id": "dec32df8",
   "metadata": {},
   "outputs": [
    {
     "data": {
      "text/plain": [
       "0    A\n",
       "1    B\n",
       "2    C\n",
       "Name: name, dtype: object"
      ]
     },
     "execution_count": 11,
     "metadata": {},
     "output_type": "execute_result"
    }
   ],
   "source": [
    "df['name']        # Series 형태 반환"
   ]
  },
  {
   "cell_type": "code",
   "execution_count": null,
   "id": "5420879a",
   "metadata": {},
   "outputs": [
    {
     "data": {
      "text/html": [
       "<div>\n",
       "<style scoped>\n",
       "    .dataframe tbody tr th:only-of-type {\n",
       "        vertical-align: middle;\n",
       "    }\n",
       "\n",
       "    .dataframe tbody tr th {\n",
       "        vertical-align: top;\n",
       "    }\n",
       "\n",
       "    .dataframe thead th {\n",
       "        text-align: right;\n",
       "    }\n",
       "</style>\n",
       "<table border=\"1\" class=\"dataframe\">\n",
       "  <thead>\n",
       "    <tr style=\"text-align: right;\">\n",
       "      <th></th>\n",
       "      <th>name</th>\n",
       "      <th>score</th>\n",
       "    </tr>\n",
       "  </thead>\n",
       "  <tbody>\n",
       "    <tr>\n",
       "      <th>0</th>\n",
       "      <td>A</td>\n",
       "      <td>80</td>\n",
       "    </tr>\n",
       "    <tr>\n",
       "      <th>1</th>\n",
       "      <td>B</td>\n",
       "      <td>95</td>\n",
       "    </tr>\n",
       "    <tr>\n",
       "      <th>2</th>\n",
       "      <td>C</td>\n",
       "      <td>91</td>\n",
       "    </tr>\n",
       "  </tbody>\n",
       "</table>\n",
       "</div>"
      ],
      "text/plain": [
       "  name  score\n",
       "0    A     80\n",
       "1    B     95\n",
       "2    C     91"
      ]
     },
     "execution_count": 10,
     "metadata": {},
     "output_type": "execute_result"
    }
   ],
   "source": [
    "df[['name', 'score']]   # DataFrame 형태 반환"
   ]
  },
  {
   "cell_type": "code",
   "execution_count": 14,
   "id": "a5395017",
   "metadata": {},
   "outputs": [
    {
     "data": {
      "text/plain": [
       "name        C\n",
       "gender      M\n",
       "height    180\n",
       "score      91\n",
       "Name: 2, dtype: object"
      ]
     },
     "execution_count": 14,
     "metadata": {},
     "output_type": "execute_result"
    }
   ],
   "source": [
    "df.loc[2]               # 인덱스 라벨이 2인 행"
   ]
  },
  {
   "cell_type": "code",
   "execution_count": 15,
   "id": "8004627f",
   "metadata": {},
   "outputs": [
    {
     "data": {
      "text/html": [
       "<div>\n",
       "<style scoped>\n",
       "    .dataframe tbody tr th:only-of-type {\n",
       "        vertical-align: middle;\n",
       "    }\n",
       "\n",
       "    .dataframe tbody tr th {\n",
       "        vertical-align: top;\n",
       "    }\n",
       "\n",
       "    .dataframe thead th {\n",
       "        text-align: right;\n",
       "    }\n",
       "</style>\n",
       "<table border=\"1\" class=\"dataframe\">\n",
       "  <thead>\n",
       "    <tr style=\"text-align: right;\">\n",
       "      <th></th>\n",
       "      <th>name</th>\n",
       "      <th>gender</th>\n",
       "      <th>height</th>\n",
       "      <th>score</th>\n",
       "    </tr>\n",
       "  </thead>\n",
       "  <tbody>\n",
       "    <tr>\n",
       "      <th>0</th>\n",
       "      <td>A</td>\n",
       "      <td>M</td>\n",
       "      <td>170</td>\n",
       "      <td>80</td>\n",
       "    </tr>\n",
       "    <tr>\n",
       "      <th>1</th>\n",
       "      <td>B</td>\n",
       "      <td>F</td>\n",
       "      <td>165</td>\n",
       "      <td>95</td>\n",
       "    </tr>\n",
       "    <tr>\n",
       "      <th>2</th>\n",
       "      <td>C</td>\n",
       "      <td>M</td>\n",
       "      <td>180</td>\n",
       "      <td>91</td>\n",
       "    </tr>\n",
       "  </tbody>\n",
       "</table>\n",
       "</div>"
      ],
      "text/plain": [
       "  name gender  height  score\n",
       "0    A      M     170     80\n",
       "1    B      F     165     95\n",
       "2    C      M     180     91"
      ]
     },
     "execution_count": 15,
     "metadata": {},
     "output_type": "execute_result"
    }
   ],
   "source": [
    "df.loc[0:2]             # 인덱스 라벨 0~2 범위의 행들"
   ]
  },
  {
   "cell_type": "code",
   "execution_count": 16,
   "id": "40faac66",
   "metadata": {},
   "outputs": [
    {
     "data": {
      "text/plain": [
       "name        A\n",
       "gender      M\n",
       "height    170\n",
       "score      80\n",
       "Name: 0, dtype: object"
      ]
     },
     "execution_count": 16,
     "metadata": {},
     "output_type": "execute_result"
    }
   ],
   "source": [
    "df.iloc[0]              # 첫 번째 행 (0번째 위치)"
   ]
  },
  {
   "cell_type": "code",
   "execution_count": 17,
   "id": "00dbf380",
   "metadata": {},
   "outputs": [
    {
     "data": {
      "text/html": [
       "<div>\n",
       "<style scoped>\n",
       "    .dataframe tbody tr th:only-of-type {\n",
       "        vertical-align: middle;\n",
       "    }\n",
       "\n",
       "    .dataframe tbody tr th {\n",
       "        vertical-align: top;\n",
       "    }\n",
       "\n",
       "    .dataframe thead th {\n",
       "        text-align: right;\n",
       "    }\n",
       "</style>\n",
       "<table border=\"1\" class=\"dataframe\">\n",
       "  <thead>\n",
       "    <tr style=\"text-align: right;\">\n",
       "      <th></th>\n",
       "      <th>name</th>\n",
       "      <th>gender</th>\n",
       "      <th>height</th>\n",
       "      <th>score</th>\n",
       "    </tr>\n",
       "  </thead>\n",
       "  <tbody>\n",
       "    <tr>\n",
       "      <th>0</th>\n",
       "      <td>A</td>\n",
       "      <td>M</td>\n",
       "      <td>170</td>\n",
       "      <td>80</td>\n",
       "    </tr>\n",
       "    <tr>\n",
       "      <th>1</th>\n",
       "      <td>B</td>\n",
       "      <td>F</td>\n",
       "      <td>165</td>\n",
       "      <td>95</td>\n",
       "    </tr>\n",
       "    <tr>\n",
       "      <th>2</th>\n",
       "      <td>C</td>\n",
       "      <td>M</td>\n",
       "      <td>180</td>\n",
       "      <td>91</td>\n",
       "    </tr>\n",
       "  </tbody>\n",
       "</table>\n",
       "</div>"
      ],
      "text/plain": [
       "  name gender  height  score\n",
       "0    A      M     170     80\n",
       "1    B      F     165     95\n",
       "2    C      M     180     91"
      ]
     },
     "execution_count": 17,
     "metadata": {},
     "output_type": "execute_result"
    }
   ],
   "source": [
    "df.iloc[0:3]            # 0~2번째 행들"
   ]
  },
  {
   "cell_type": "code",
   "execution_count": 18,
   "id": "08ddf907",
   "metadata": {},
   "outputs": [
    {
     "data": {
      "text/plain": [
       "'A'"
      ]
     },
     "execution_count": 18,
     "metadata": {},
     "output_type": "execute_result"
    }
   ],
   "source": [
    "df.loc[0, 'name']         # 라벨 기준: 0번째 행, 특정 열"
   ]
  },
  {
   "cell_type": "code",
   "execution_count": 19,
   "id": "8563d573",
   "metadata": {},
   "outputs": [
    {
     "data": {
      "text/plain": [
       "'M'"
      ]
     },
     "execution_count": 19,
     "metadata": {},
     "output_type": "execute_result"
    }
   ],
   "source": [
    "df.iloc[0, 1]              # 위치 기준: 0번째 행, 1번째 열"
   ]
  },
  {
   "cell_type": "code",
   "execution_count": 20,
   "id": "b3837104",
   "metadata": {},
   "outputs": [
    {
     "data": {
      "text/html": [
       "<div>\n",
       "<style scoped>\n",
       "    .dataframe tbody tr th:only-of-type {\n",
       "        vertical-align: middle;\n",
       "    }\n",
       "\n",
       "    .dataframe tbody tr th {\n",
       "        vertical-align: top;\n",
       "    }\n",
       "\n",
       "    .dataframe thead th {\n",
       "        text-align: right;\n",
       "    }\n",
       "</style>\n",
       "<table border=\"1\" class=\"dataframe\">\n",
       "  <thead>\n",
       "    <tr style=\"text-align: right;\">\n",
       "      <th></th>\n",
       "      <th>name</th>\n",
       "      <th>score</th>\n",
       "    </tr>\n",
       "  </thead>\n",
       "  <tbody>\n",
       "    <tr>\n",
       "      <th>0</th>\n",
       "      <td>A</td>\n",
       "      <td>80</td>\n",
       "    </tr>\n",
       "    <tr>\n",
       "      <th>1</th>\n",
       "      <td>B</td>\n",
       "      <td>95</td>\n",
       "    </tr>\n",
       "    <tr>\n",
       "      <th>2</th>\n",
       "      <td>C</td>\n",
       "      <td>91</td>\n",
       "    </tr>\n",
       "  </tbody>\n",
       "</table>\n",
       "</div>"
      ],
      "text/plain": [
       "  name  score\n",
       "0    A     80\n",
       "1    B     95\n",
       "2    C     91"
      ]
     },
     "execution_count": 20,
     "metadata": {},
     "output_type": "execute_result"
    }
   ],
   "source": [
    "df.loc[:, ['name', 'score']]   # 모든 행, 열1·열2만 선택"
   ]
  },
  {
   "cell_type": "code",
   "execution_count": null,
   "id": "d376c5eb",
   "metadata": {},
   "outputs": [
    {
     "name": "stdout",
     "output_type": "stream",
     "text": [
      "30\n"
     ]
    }
   ],
   "source": [
    "### 함수 만들기\n",
    "\n",
    "def area(x, y):\n",
    "    return x * y\n",
    "\n",
    "print(area(5, 6))  # 30"
   ]
  },
  {
   "cell_type": "markdown",
   "id": "6926caeb",
   "metadata": {},
   "source": [
    "### 조건문"
   ]
  },
  {
   "cell_type": "code",
   "execution_count": 14,
   "id": "c1ca5c62",
   "metadata": {},
   "outputs": [
    {
     "name": "stdout",
     "output_type": "stream",
     "text": [
      "x는 0.75보다 작습니다\n"
     ]
    }
   ],
   "source": [
    "import random\n",
    "\n",
    "x = random.random()\n",
    "if x < 0.5:\n",
    "    print(\"x는 0.5보다 작습니다\")\n",
    "elif x < 0.75:\n",
    "    print(\"x는 0.75보다 작습니다\")\n",
    "else:\n",
    "    print(\"x는 0.75 이상입니다\")"
   ]
  },
  {
   "cell_type": "markdown",
   "id": "2a9ee928",
   "metadata": {},
   "source": [
    "### 반복문"
   ]
  },
  {
   "cell_type": "code",
   "execution_count": 15,
   "id": "482f45b8",
   "metadata": {},
   "outputs": [
    {
     "name": "stdout",
     "output_type": "stream",
     "text": [
      "1\n",
      "2\n",
      "3\n",
      "4\n"
     ]
    }
   ],
   "source": [
    "for i in range(1, 5):\n",
    "    print(i)"
   ]
  },
  {
   "cell_type": "code",
   "execution_count": 16,
   "id": "366d1190",
   "metadata": {},
   "outputs": [
    {
     "name": "stdout",
     "output_type": "stream",
     "text": [
      "105\n"
     ]
    }
   ],
   "source": [
    "t = 0\n",
    "sum_val = 0\n",
    "while sum_val <= 100:\n",
    "    t += 1\n",
    "    sum_val += t\n",
    "print(sum_val)"
   ]
  },
  {
   "cell_type": "code",
   "execution_count": 17,
   "id": "4479f4fe",
   "metadata": {},
   "outputs": [
    {
     "name": "stdout",
     "output_type": "stream",
     "text": [
      "105\n"
     ]
    }
   ],
   "source": [
    "t = 0\n",
    "sum_val = 0\n",
    "while True:\n",
    "    t += 1\n",
    "    sum_val += t\n",
    "    if sum_val > 100:\n",
    "        break\n",
    "print(sum_val)"
   ]
  },
  {
   "cell_type": "markdown",
   "id": "7ddd9485",
   "metadata": {},
   "source": [
    "### 데이터 다루기 실습"
   ]
  },
  {
   "cell_type": "code",
   "execution_count": 23,
   "id": "e8e211b1",
   "metadata": {},
   "outputs": [
    {
     "data": {
      "text/html": [
       "<div>\n",
       "<style scoped>\n",
       "    .dataframe tbody tr th:only-of-type {\n",
       "        vertical-align: middle;\n",
       "    }\n",
       "\n",
       "    .dataframe tbody tr th {\n",
       "        vertical-align: top;\n",
       "    }\n",
       "\n",
       "    .dataframe thead th {\n",
       "        text-align: right;\n",
       "    }\n",
       "</style>\n",
       "<table border=\"1\" class=\"dataframe\">\n",
       "  <thead>\n",
       "    <tr style=\"text-align: right;\">\n",
       "      <th></th>\n",
       "      <th>date</th>\n",
       "      <th>PI_CA</th>\n",
       "      <th>SI_CA</th>\n",
       "      <th>II_CA</th>\n",
       "      <th>PI_I</th>\n",
       "      <th>SI_I</th>\n",
       "      <th>II_I</th>\n",
       "      <th>PI_CO</th>\n",
       "      <th>SI_CO</th>\n",
       "      <th>II_CO</th>\n",
       "      <th>...</th>\n",
       "      <th>KOSDAQ</th>\n",
       "      <th>Expected_inf</th>\n",
       "      <th>Oilprice</th>\n",
       "      <th>TB_spread</th>\n",
       "      <th>USCPI</th>\n",
       "      <th>IR_House</th>\n",
       "      <th>USB_10</th>\n",
       "      <th>LeadingCI</th>\n",
       "      <th>LaggingCI</th>\n",
       "      <th>VKOSPI</th>\n",
       "    </tr>\n",
       "  </thead>\n",
       "  <tbody>\n",
       "    <tr>\n",
       "      <th>0</th>\n",
       "      <td>td</td>\n",
       "      <td>5.000</td>\n",
       "      <td>5.000</td>\n",
       "      <td>5.000</td>\n",
       "      <td>5.000</td>\n",
       "      <td>5.000</td>\n",
       "      <td>5.000</td>\n",
       "      <td>5.000</td>\n",
       "      <td>5.000</td>\n",
       "      <td>5.000</td>\n",
       "      <td>...</td>\n",
       "      <td>5.00</td>\n",
       "      <td>2.0</td>\n",
       "      <td>5.00</td>\n",
       "      <td>2.00</td>\n",
       "      <td>5.0</td>\n",
       "      <td>2.00</td>\n",
       "      <td>2.00</td>\n",
       "      <td>5.0</td>\n",
       "      <td>5.0</td>\n",
       "      <td>1.00</td>\n",
       "    </tr>\n",
       "    <tr>\n",
       "      <th>1</th>\n",
       "      <td>04-Aug</td>\n",
       "      <td>80.676</td>\n",
       "      <td>83.725</td>\n",
       "      <td>47.866</td>\n",
       "      <td>44.747</td>\n",
       "      <td>52.469</td>\n",
       "      <td>42.169</td>\n",
       "      <td>90.809</td>\n",
       "      <td>97.398</td>\n",
       "      <td>64.304</td>\n",
       "      <td>...</td>\n",
       "      <td>355.66</td>\n",
       "      <td>3.4</td>\n",
       "      <td>44.94</td>\n",
       "      <td>0.60</td>\n",
       "      <td>189.2</td>\n",
       "      <td>5.80</td>\n",
       "      <td>4.28</td>\n",
       "      <td>56.6</td>\n",
       "      <td>59.8</td>\n",
       "      <td>22.76</td>\n",
       "    </tr>\n",
       "    <tr>\n",
       "      <th>2</th>\n",
       "      <td>04-Sep</td>\n",
       "      <td>83.572</td>\n",
       "      <td>84.319</td>\n",
       "      <td>48.542</td>\n",
       "      <td>44.970</td>\n",
       "      <td>52.976</td>\n",
       "      <td>42.437</td>\n",
       "      <td>92.941</td>\n",
       "      <td>103.601</td>\n",
       "      <td>63.246</td>\n",
       "      <td>...</td>\n",
       "      <td>362.08</td>\n",
       "      <td>3.3</td>\n",
       "      <td>45.95</td>\n",
       "      <td>0.64</td>\n",
       "      <td>189.8</td>\n",
       "      <td>5.63</td>\n",
       "      <td>4.13</td>\n",
       "      <td>56.7</td>\n",
       "      <td>59.9</td>\n",
       "      <td>23.73</td>\n",
       "    </tr>\n",
       "    <tr>\n",
       "      <th>3</th>\n",
       "      <td>04-Oct</td>\n",
       "      <td>81.798</td>\n",
       "      <td>83.807</td>\n",
       "      <td>48.367</td>\n",
       "      <td>45.019</td>\n",
       "      <td>52.919</td>\n",
       "      <td>42.511</td>\n",
       "      <td>92.793</td>\n",
       "      <td>101.498</td>\n",
       "      <td>63.232</td>\n",
       "      <td>...</td>\n",
       "      <td>357.04</td>\n",
       "      <td>3.3</td>\n",
       "      <td>53.13</td>\n",
       "      <td>0.57</td>\n",
       "      <td>190.8</td>\n",
       "      <td>5.57</td>\n",
       "      <td>4.10</td>\n",
       "      <td>56.9</td>\n",
       "      <td>60.1</td>\n",
       "      <td>27.17</td>\n",
       "    </tr>\n",
       "    <tr>\n",
       "      <th>4</th>\n",
       "      <td>04-Nov</td>\n",
       "      <td>82.503</td>\n",
       "      <td>84.153</td>\n",
       "      <td>49.361</td>\n",
       "      <td>45.883</td>\n",
       "      <td>53.771</td>\n",
       "      <td>44.000</td>\n",
       "      <td>95.844</td>\n",
       "      <td>106.127</td>\n",
       "      <td>62.213</td>\n",
       "      <td>...</td>\n",
       "      <td>373.43</td>\n",
       "      <td>3.3</td>\n",
       "      <td>48.46</td>\n",
       "      <td>0.62</td>\n",
       "      <td>191.7</td>\n",
       "      <td>5.47</td>\n",
       "      <td>4.19</td>\n",
       "      <td>57.0</td>\n",
       "      <td>60.2</td>\n",
       "      <td>25.05</td>\n",
       "    </tr>\n",
       "  </tbody>\n",
       "</table>\n",
       "<p>5 rows × 94 columns</p>\n",
       "</div>"
      ],
      "text/plain": [
       "     date   PI_CA   SI_CA   II_CA    PI_I    SI_I    II_I   PI_CO    SI_CO  \\\n",
       "0      td   5.000   5.000   5.000   5.000   5.000   5.000   5.000    5.000   \n",
       "1  04-Aug  80.676  83.725  47.866  44.747  52.469  42.169  90.809   97.398   \n",
       "2  04-Sep  83.572  84.319  48.542  44.970  52.976  42.437  92.941  103.601   \n",
       "3  04-Oct  81.798  83.807  48.367  45.019  52.919  42.511  92.793  101.498   \n",
       "4  04-Nov  82.503  84.153  49.361  45.883  53.771  44.000  95.844  106.127   \n",
       "\n",
       "    II_CO  ...  KOSDAQ  Expected_inf  Oilprice  TB_spread  USCPI  IR_House  \\\n",
       "0   5.000  ...    5.00           2.0      5.00       2.00    5.0      2.00   \n",
       "1  64.304  ...  355.66           3.4     44.94       0.60  189.2      5.80   \n",
       "2  63.246  ...  362.08           3.3     45.95       0.64  189.8      5.63   \n",
       "3  63.232  ...  357.04           3.3     53.13       0.57  190.8      5.57   \n",
       "4  62.213  ...  373.43           3.3     48.46       0.62  191.7      5.47   \n",
       "\n",
       "   USB_10  LeadingCI  LaggingCI  VKOSPI  \n",
       "0    2.00        5.0        5.0    1.00  \n",
       "1    4.28       56.6       59.8   22.76  \n",
       "2    4.13       56.7       59.9   23.73  \n",
       "3    4.10       56.9       60.1   27.17  \n",
       "4    4.19       57.0       60.2   25.05  \n",
       "\n",
       "[5 rows x 94 columns]"
      ]
     },
     "execution_count": 23,
     "metadata": {},
     "output_type": "execute_result"
    }
   ],
   "source": [
    "df = pd.read_csv(\"DataKoreaFrom200408To202306.csv\")\n",
    "df.head()"
   ]
  },
  {
   "cell_type": "code",
   "execution_count": 25,
   "id": "da9b2168",
   "metadata": {},
   "outputs": [
    {
     "name": "stdout",
     "output_type": "stream",
     "text": [
      "    date  PI_CA  SI_CA  II_CA   PI_I   SI_I   II_I  PI_CO  SI_CO  II_CO  ...  \\\n",
      "0  False  False  False  False  False  False  False  False  False  False  ...   \n",
      "1  False  False  False  False  False  False  False  False  False  False  ...   \n",
      "2  False  False  False  False  False  False  False  False  False  False  ...   \n",
      "3  False  False  False  False  False  False  False  False  False  False  ...   \n",
      "4  False  False  False  False  False  False  False  False  False  False  ...   \n",
      "\n",
      "   KOSDAQ  Expected_inf  Oilprice  TB_spread  USCPI  IR_House  USB_10  \\\n",
      "0   False         False     False      False  False     False   False   \n",
      "1   False         False     False      False  False     False   False   \n",
      "2   False         False     False      False  False     False   False   \n",
      "3   False         False     False      False  False     False   False   \n",
      "4   False         False     False      False  False     False   False   \n",
      "\n",
      "   LeadingCI  LaggingCI  VKOSPI  \n",
      "0      False      False   False  \n",
      "1      False      False   False  \n",
      "2      False      False   False  \n",
      "3      False      False   False  \n",
      "4      False      False   False  \n",
      "\n",
      "[5 rows x 94 columns]\n"
     ]
    }
   ],
   "source": [
    "print(df.isnull().head())         # 각 값이 결측인지 확인"
   ]
  },
  {
   "cell_type": "code",
   "execution_count": 26,
   "id": "3c34cce3",
   "metadata": {},
   "outputs": [
    {
     "name": "stdout",
     "output_type": "stream",
     "text": [
      "date         0\n",
      "PI_CA        0\n",
      "SI_CA        0\n",
      "II_CA        0\n",
      "PI_I         0\n",
      "            ..\n",
      "IR_House     0\n",
      "USB_10       0\n",
      "LeadingCI    0\n",
      "LaggingCI    0\n",
      "VKOSPI       0\n",
      "Length: 94, dtype: int64\n"
     ]
    }
   ],
   "source": [
    "print(df.isnull().sum())   # 각 열의 결측치 개수 확인"
   ]
  },
  {
   "cell_type": "code",
   "execution_count": 27,
   "id": "3f2cdeac",
   "metadata": {},
   "outputs": [],
   "source": [
    "df_clean = df.dropna() # 결측치 제거"
   ]
  },
  {
   "cell_type": "code",
   "execution_count": null,
   "id": "bb5b5079",
   "metadata": {},
   "outputs": [],
   "source": [
    "# 필터 (filter)\n",
    "setosa = df[df['KOSDAQ'] < 600]\n",
    "\n",
    "# 선택 (select)\n",
    "selected = df[['Oilprice', 'KOSDAQ']]\n",
    "\n",
    "# 새 변수 만들기 (mutate)\n",
    "df['USCPI'] = df['USCPI'] / df['KOSDAQ']"
   ]
  },
  {
   "cell_type": "code",
   "execution_count": null,
   "id": "253dce2f",
   "metadata": {},
   "outputs": [],
   "source": [
    "!pip install openpyxl"
   ]
  },
  {
   "cell_type": "code",
   "execution_count": null,
   "id": "f472d8f8",
   "metadata": {},
   "outputs": [],
   "source": [
    "# CSV 파일로 저장\n",
    "df.to_csv(\"저장결과.csv\", index=False)\n",
    "\n",
    "# Excel 파일 저장 (openpyxl 설치 필요)\n",
    "df.to_excel(\"저장결과.xlsx\", index=False)"
   ]
  }
 ],
 "metadata": {
  "kernelspec": {
   "display_name": "tf",
   "language": "python",
   "name": "python3"
  },
  "language_info": {
   "codemirror_mode": {
    "name": "ipython",
    "version": 3
   },
   "file_extension": ".py",
   "mimetype": "text/x-python",
   "name": "python",
   "nbconvert_exporter": "python",
   "pygments_lexer": "ipython3",
   "version": "3.8.18"
  }
 },
 "nbformat": 4,
 "nbformat_minor": 5
}
