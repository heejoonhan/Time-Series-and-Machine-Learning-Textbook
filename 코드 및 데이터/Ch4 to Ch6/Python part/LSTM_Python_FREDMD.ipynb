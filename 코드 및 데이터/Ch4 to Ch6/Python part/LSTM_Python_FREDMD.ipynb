{
 "cells": [
  {
   "cell_type": "code",
   "execution_count": 3,
   "id": "20843a54",
   "metadata": {},
   "outputs": [],
   "source": [
    "import pandas as pd\n",
    "import numpy as np\n",
    "import tensorflow as tf\n",
    "from tensorflow.keras.layers import LSTM, Dense, Dropout\n",
    "from tensorflow.keras.models import Sequential\n",
    "from sklearn.preprocessing import MinMaxScaler\n",
    "import random\n",
    "\n",
    "scaler = MinMaxScaler()"
   ]
  },
  {
   "cell_type": "code",
   "execution_count": null,
   "id": "f08f7910",
   "metadata": {},
   "outputs": [],
   "source": [
    "### 데이터 불러오기\n",
    "FREDMD = pd.read_excel(\"FREDMDdata.xlsx\")"
   ]
  },
  {
   "cell_type": "code",
   "execution_count": null,
   "id": "a91ffe49",
   "metadata": {},
   "outputs": [],
   "source": [
    "### 정규화 함수\n",
    "\n",
    "def normalize(df):\n",
    "    return pd.DataFrame(scaler.fit_transform(df), columns=df.columns)\n",
    "\n",
    "def denormalize(val, minval, maxval):\n",
    "    return val * (maxval - minval) + minval"
   ]
  },
  {
   "cell_type": "code",
   "execution_count": null,
   "id": "9f24652d",
   "metadata": {},
   "outputs": [],
   "source": [
    "### 데이터 정규화\n",
    "\n",
    "FREDMX_norm = normalize(FREDMD)"
   ]
  },
  {
   "cell_type": "code",
   "execution_count": null,
   "id": "68938b4e",
   "metadata": {},
   "outputs": [],
   "source": [
    "y = FREDMX_norm['INDPRO']\n",
    "X = FREDMX_norm.drop(columns=['INDPRO'])"
   ]
  },
  {
   "cell_type": "code",
   "execution_count": 8,
   "id": "8f7e712f",
   "metadata": {},
   "outputs": [],
   "source": [
    "n_features = len(X.T)\n",
    "timestep = 4\n",
    "horizon = 1"
   ]
  },
  {
   "cell_type": "code",
   "execution_count": null,
   "id": "1c20f517",
   "metadata": {},
   "outputs": [],
   "source": [
    "### 3D-Array 생성\n",
    "\n",
    "def create_dataset(x, y, timestep, horizon):\n",
    "    x = np.asarray(x)\n",
    "    y = np.asarray(y)\n",
    "\n",
    "    n_samples = x.shape[0] - timestep - horizon + 1\n",
    "    X = np.empty((n_samples, timestep, x.shape[1]))\n",
    "    Y = y[timestep + horizon - 1:]\n",
    "\n",
    "    for i in range(n_samples):\n",
    "        X[i] = x[i:(i + timestep), :]\n",
    "\n",
    "    return X, Y\n",
    "\n",
    "def create_X_out(x, timestep):\n",
    "    x = np.asarray(x)\n",
    "    X_last = x[-timestep:] \n",
    "    X_last = X_last.reshape((1, timestep, x.shape[1]))\n",
    "    return X_last"
   ]
  },
  {
   "cell_type": "code",
   "execution_count": 10,
   "id": "d41965e4",
   "metadata": {},
   "outputs": [],
   "source": [
    "ds = create_dataset(X, y, timestep, horizon)"
   ]
  },
  {
   "cell_type": "code",
   "execution_count": 11,
   "id": "3443a09e",
   "metadata": {},
   "outputs": [],
   "source": [
    "X_train, y_train = create_dataset(X, y, timestep=4, horizon=1)"
   ]
  },
  {
   "cell_type": "code",
   "execution_count": 12,
   "id": "8f582385",
   "metadata": {},
   "outputs": [],
   "source": [
    "X_out_arr = create_X_out(X, timestep)"
   ]
  },
  {
   "cell_type": "code",
   "execution_count": null,
   "id": "c758e784",
   "metadata": {},
   "outputs": [],
   "source": [
    "### Random seed 설정\n",
    "\n",
    "random.seed(21)\n",
    "np.random.seed(21)\n",
    "tf.random.set_seed(21)"
   ]
  },
  {
   "cell_type": "code",
   "execution_count": null,
   "id": "2ea46983",
   "metadata": {},
   "outputs": [],
   "source": [
    "### 단일층 LSTM\n",
    "\n",
    "model = Sequential()\n",
    "model.add(LSTM(units=32, input_shape=(timestep, n_features), stateful=False))\n",
    "model.add(Dense(units=1))"
   ]
  },
  {
   "cell_type": "code",
   "execution_count": 15,
   "id": "34faec0a",
   "metadata": {},
   "outputs": [
    {
     "name": "stdout",
     "output_type": "stream",
     "text": [
      "Model: \"sequential\"\n",
      "_________________________________________________________________\n",
      " Layer (type)                Output Shape              Param #   \n",
      "=================================================================\n",
      " lstm (LSTM)                 (None, 32)                19712     \n",
      "                                                                 \n",
      " dense (Dense)               (None, 1)                 33        \n",
      "                                                                 \n",
      "=================================================================\n",
      "Total params: 19,745\n",
      "Trainable params: 19,745\n",
      "Non-trainable params: 0\n",
      "_________________________________________________________________\n"
     ]
    }
   ],
   "source": [
    "model.compile(optimizer='adam', loss='mse')\n",
    "model.summary()"
   ]
  },
  {
   "cell_type": "code",
   "execution_count": null,
   "id": "c5643ff2",
   "metadata": {},
   "outputs": [
    {
     "name": "stdout",
     "output_type": "stream",
     "text": [
      "Epoch 1/100\n",
      "10/10 - 4s - loss: 0.1141 - 4s/epoch - 371ms/step\n",
      "Epoch 2/100\n",
      "10/10 - 0s - loss: 0.0217 - 35ms/epoch - 4ms/step\n",
      "Epoch 3/100\n",
      "10/10 - 0s - loss: 0.0171 - 33ms/epoch - 3ms/step\n",
      "Epoch 4/100\n",
      "10/10 - 0s - loss: 0.0124 - 33ms/epoch - 3ms/step\n",
      "Epoch 5/100\n",
      "10/10 - 0s - loss: 0.0122 - 35ms/epoch - 4ms/step\n",
      "Epoch 6/100\n",
      "10/10 - 0s - loss: 0.0111 - 36ms/epoch - 4ms/step\n",
      "Epoch 7/100\n",
      "10/10 - 0s - loss: 0.0111 - 37ms/epoch - 4ms/step\n",
      "Epoch 8/100\n",
      "10/10 - 0s - loss: 0.0108 - 43ms/epoch - 4ms/step\n",
      "Epoch 9/100\n",
      "10/10 - 0s - loss: 0.0106 - 37ms/epoch - 4ms/step\n",
      "Epoch 10/100\n",
      "10/10 - 0s - loss: 0.0105 - 33ms/epoch - 3ms/step\n",
      "Epoch 11/100\n",
      "10/10 - 0s - loss: 0.0104 - 35ms/epoch - 4ms/step\n",
      "Epoch 12/100\n",
      "10/10 - 0s - loss: 0.0103 - 36ms/epoch - 4ms/step\n",
      "Epoch 13/100\n",
      "10/10 - 0s - loss: 0.0102 - 35ms/epoch - 4ms/step\n",
      "Epoch 14/100\n",
      "10/10 - 0s - loss: 0.0102 - 34ms/epoch - 3ms/step\n",
      "Epoch 15/100\n",
      "10/10 - 0s - loss: 0.0101 - 34ms/epoch - 3ms/step\n",
      "Epoch 16/100\n",
      "10/10 - 0s - loss: 0.0100 - 33ms/epoch - 3ms/step\n",
      "Epoch 17/100\n",
      "10/10 - 0s - loss: 0.0100 - 33ms/epoch - 3ms/step\n",
      "Epoch 18/100\n",
      "10/10 - 0s - loss: 0.0099 - 34ms/epoch - 3ms/step\n",
      "Epoch 19/100\n",
      "10/10 - 0s - loss: 0.0098 - 32ms/epoch - 3ms/step\n",
      "Epoch 20/100\n",
      "10/10 - 0s - loss: 0.0098 - 33ms/epoch - 3ms/step\n",
      "Epoch 21/100\n",
      "10/10 - 0s - loss: 0.0097 - 33ms/epoch - 3ms/step\n",
      "Epoch 22/100\n",
      "10/10 - 0s - loss: 0.0097 - 33ms/epoch - 3ms/step\n",
      "Epoch 23/100\n",
      "10/10 - 0s - loss: 0.0096 - 34ms/epoch - 3ms/step\n",
      "Epoch 24/100\n",
      "10/10 - 0s - loss: 0.0096 - 34ms/epoch - 3ms/step\n",
      "Epoch 25/100\n",
      "10/10 - 0s - loss: 0.0095 - 34ms/epoch - 3ms/step\n",
      "Epoch 26/100\n",
      "10/10 - 0s - loss: 0.0095 - 39ms/epoch - 4ms/step\n",
      "Epoch 27/100\n",
      "10/10 - 0s - loss: 0.0094 - 35ms/epoch - 4ms/step\n",
      "Epoch 28/100\n",
      "10/10 - 0s - loss: 0.0094 - 35ms/epoch - 4ms/step\n",
      "Epoch 29/100\n",
      "10/10 - 0s - loss: 0.0093 - 33ms/epoch - 3ms/step\n",
      "Epoch 30/100\n",
      "10/10 - 0s - loss: 0.0093 - 33ms/epoch - 3ms/step\n",
      "Epoch 31/100\n",
      "10/10 - 0s - loss: 0.0092 - 33ms/epoch - 3ms/step\n",
      "Epoch 32/100\n",
      "10/10 - 0s - loss: 0.0092 - 34ms/epoch - 3ms/step\n",
      "Epoch 33/100\n",
      "10/10 - 0s - loss: 0.0091 - 34ms/epoch - 3ms/step\n",
      "Epoch 34/100\n",
      "10/10 - 0s - loss: 0.0091 - 34ms/epoch - 3ms/step\n",
      "Epoch 35/100\n",
      "10/10 - 0s - loss: 0.0090 - 34ms/epoch - 3ms/step\n",
      "Epoch 36/100\n",
      "10/10 - 0s - loss: 0.0090 - 33ms/epoch - 3ms/step\n",
      "Epoch 37/100\n",
      "10/10 - 0s - loss: 0.0089 - 33ms/epoch - 3ms/step\n",
      "Epoch 38/100\n",
      "10/10 - 0s - loss: 0.0089 - 33ms/epoch - 3ms/step\n",
      "Epoch 39/100\n",
      "10/10 - 0s - loss: 0.0089 - 34ms/epoch - 3ms/step\n",
      "Epoch 40/100\n",
      "10/10 - 0s - loss: 0.0088 - 34ms/epoch - 3ms/step\n",
      "Epoch 41/100\n",
      "10/10 - 0s - loss: 0.0088 - 34ms/epoch - 3ms/step\n",
      "Epoch 42/100\n",
      "10/10 - 0s - loss: 0.0087 - 32ms/epoch - 3ms/step\n",
      "Epoch 43/100\n",
      "10/10 - 0s - loss: 0.0087 - 34ms/epoch - 3ms/step\n",
      "Epoch 44/100\n",
      "10/10 - 0s - loss: 0.0087 - 34ms/epoch - 3ms/step\n",
      "Epoch 45/100\n",
      "10/10 - 0s - loss: 0.0087 - 33ms/epoch - 3ms/step\n",
      "Epoch 46/100\n",
      "10/10 - 0s - loss: 0.0086 - 33ms/epoch - 3ms/step\n",
      "Epoch 47/100\n",
      "10/10 - 0s - loss: 0.0086 - 33ms/epoch - 3ms/step\n",
      "Epoch 48/100\n",
      "10/10 - 0s - loss: 0.0086 - 33ms/epoch - 3ms/step\n",
      "Epoch 49/100\n",
      "10/10 - 0s - loss: 0.0085 - 34ms/epoch - 3ms/step\n",
      "Epoch 50/100\n",
      "10/10 - 0s - loss: 0.0085 - 33ms/epoch - 3ms/step\n",
      "Epoch 51/100\n",
      "10/10 - 0s - loss: 0.0084 - 34ms/epoch - 3ms/step\n",
      "Epoch 52/100\n",
      "10/10 - 0s - loss: 0.0084 - 33ms/epoch - 3ms/step\n",
      "Epoch 53/100\n",
      "10/10 - 0s - loss: 0.0083 - 32ms/epoch - 3ms/step\n",
      "Epoch 54/100\n",
      "10/10 - 0s - loss: 0.0083 - 33ms/epoch - 3ms/step\n",
      "Epoch 55/100\n",
      "10/10 - 0s - loss: 0.0083 - 36ms/epoch - 4ms/step\n",
      "Epoch 56/100\n",
      "10/10 - 0s - loss: 0.0083 - 113ms/epoch - 11ms/step\n",
      "Epoch 57/100\n",
      "10/10 - 0s - loss: 0.0083 - 54ms/epoch - 5ms/step\n",
      "Epoch 58/100\n",
      "10/10 - 0s - loss: 0.0085 - 46ms/epoch - 5ms/step\n",
      "Epoch 59/100\n",
      "10/10 - 0s - loss: 0.0089 - 37ms/epoch - 4ms/step\n",
      "Epoch 60/100\n",
      "10/10 - 0s - loss: 0.0098 - 39ms/epoch - 4ms/step\n",
      "Epoch 61/100\n",
      "10/10 - 0s - loss: 0.0117 - 35ms/epoch - 4ms/step\n",
      "Epoch 62/100\n",
      "10/10 - 0s - loss: 0.0154 - 34ms/epoch - 3ms/step\n",
      "Epoch 63/100\n",
      "10/10 - 0s - loss: 0.0193 - 45ms/epoch - 5ms/step\n",
      "Epoch 64/100\n",
      "10/10 - 0s - loss: 0.0170 - 38ms/epoch - 4ms/step\n",
      "Epoch 65/100\n",
      "10/10 - 0s - loss: 0.0155 - 35ms/epoch - 4ms/step\n",
      "Epoch 66/100\n",
      "10/10 - 0s - loss: 0.0155 - 35ms/epoch - 4ms/step\n",
      "Epoch 67/100\n",
      "10/10 - 0s - loss: 0.0096 - 34ms/epoch - 3ms/step\n",
      "Epoch 68/100\n",
      "10/10 - 0s - loss: 0.0090 - 34ms/epoch - 3ms/step\n",
      "Epoch 69/100\n",
      "10/10 - 0s - loss: 0.0093 - 34ms/epoch - 3ms/step\n",
      "Epoch 70/100\n",
      "10/10 - 0s - loss: 0.0088 - 34ms/epoch - 3ms/step\n",
      "Epoch 71/100\n",
      "10/10 - 0s - loss: 0.0084 - 34ms/epoch - 3ms/step\n",
      "Epoch 72/100\n",
      "10/10 - 0s - loss: 0.0085 - 35ms/epoch - 4ms/step\n",
      "Epoch 73/100\n",
      "10/10 - 0s - loss: 0.0084 - 34ms/epoch - 3ms/step\n",
      "Epoch 74/100\n",
      "10/10 - 0s - loss: 0.0083 - 35ms/epoch - 4ms/step\n",
      "Epoch 75/100\n",
      "10/10 - 0s - loss: 0.0083 - 34ms/epoch - 3ms/step\n",
      "Epoch 76/100\n",
      "10/10 - 0s - loss: 0.0082 - 33ms/epoch - 3ms/step\n",
      "Epoch 77/100\n",
      "10/10 - 0s - loss: 0.0082 - 36ms/epoch - 4ms/step\n",
      "Epoch 78/100\n",
      "10/10 - 0s - loss: 0.0081 - 40ms/epoch - 4ms/step\n",
      "Epoch 79/100\n",
      "10/10 - 0s - loss: 0.0081 - 40ms/epoch - 4ms/step\n",
      "Epoch 80/100\n",
      "10/10 - 0s - loss: 0.0081 - 38ms/epoch - 4ms/step\n",
      "Epoch 81/100\n",
      "10/10 - 0s - loss: 0.0080 - 38ms/epoch - 4ms/step\n",
      "Epoch 82/100\n",
      "10/10 - 0s - loss: 0.0080 - 37ms/epoch - 4ms/step\n",
      "Epoch 83/100\n",
      "10/10 - 0s - loss: 0.0080 - 33ms/epoch - 3ms/step\n",
      "Epoch 84/100\n",
      "10/10 - 0s - loss: 0.0079 - 33ms/epoch - 3ms/step\n",
      "Epoch 85/100\n",
      "10/10 - 0s - loss: 0.0079 - 33ms/epoch - 3ms/step\n",
      "Epoch 86/100\n",
      "10/10 - 0s - loss: 0.0079 - 34ms/epoch - 3ms/step\n",
      "Epoch 87/100\n",
      "10/10 - 0s - loss: 0.0078 - 34ms/epoch - 3ms/step\n",
      "Epoch 88/100\n",
      "10/10 - 0s - loss: 0.0078 - 35ms/epoch - 4ms/step\n",
      "Epoch 89/100\n",
      "10/10 - 0s - loss: 0.0078 - 34ms/epoch - 3ms/step\n",
      "Epoch 90/100\n",
      "10/10 - 0s - loss: 0.0078 - 36ms/epoch - 4ms/step\n",
      "Epoch 91/100\n",
      "10/10 - 0s - loss: 0.0077 - 36ms/epoch - 4ms/step\n",
      "Epoch 92/100\n",
      "10/10 - 0s - loss: 0.0077 - 40ms/epoch - 4ms/step\n",
      "Epoch 93/100\n",
      "10/10 - 0s - loss: 0.0077 - 42ms/epoch - 4ms/step\n",
      "Epoch 94/100\n",
      "10/10 - 0s - loss: 0.0076 - 41ms/epoch - 4ms/step\n",
      "Epoch 95/100\n",
      "10/10 - 0s - loss: 0.0076 - 41ms/epoch - 4ms/step\n",
      "Epoch 96/100\n",
      "10/10 - 0s - loss: 0.0076 - 39ms/epoch - 4ms/step\n",
      "Epoch 97/100\n",
      "10/10 - 0s - loss: 0.0076 - 37ms/epoch - 4ms/step\n",
      "Epoch 98/100\n",
      "10/10 - 0s - loss: 0.0075 - 36ms/epoch - 4ms/step\n",
      "Epoch 99/100\n",
      "10/10 - 0s - loss: 0.0075 - 36ms/epoch - 4ms/step\n",
      "Epoch 100/100\n",
      "10/10 - 0s - loss: 0.0075 - 39ms/epoch - 4ms/step\n"
     ]
    },
    {
     "data": {
      "text/plain": [
       "<keras.callbacks.History at 0x27d3c9714c0>"
      ]
     },
     "execution_count": 16,
     "metadata": {},
     "output_type": "execute_result"
    }
   ],
   "source": [
    "### 모델 학습\n",
    "\n",
    "model.fit(X_train, y_train, epochs=100, batch_size=50,shuffle=False,verbose=2)"
   ]
  },
  {
   "cell_type": "code",
   "execution_count": null,
   "id": "a45e5986",
   "metadata": {},
   "outputs": [
    {
     "name": "stdout",
     "output_type": "stream",
     "text": [
      "1/1 [==============================] - 1s 729ms/step\n"
     ]
    }
   ],
   "source": [
    "### 예측\n",
    "\n",
    "h_step_ahead_pred = model.predict(X_out_arr)"
   ]
  },
  {
   "cell_type": "code",
   "execution_count": 18,
   "id": "e441d5ff",
   "metadata": {},
   "outputs": [],
   "source": [
    "x_min = FREDMD.apply(min)\n",
    "x_max = FREDMD.apply(max)\n",
    "\n",
    "y_min = x_min['INDPRO']\n",
    "y_max = x_max['INDPRO']"
   ]
  },
  {
   "cell_type": "code",
   "execution_count": null,
   "id": "6f095f93",
   "metadata": {},
   "outputs": [],
   "source": [
    "### Denormalize하여 예측값 생성\n",
    "\n",
    "y_pred = denormalize(h_step_ahead_pred, y_min, y_max)"
   ]
  },
  {
   "cell_type": "code",
   "execution_count": 20,
   "id": "8a08d0ab",
   "metadata": {},
   "outputs": [
    {
     "data": {
      "text/plain": [
       "array([[-0.00100458]], dtype=float32)"
      ]
     },
     "execution_count": 20,
     "metadata": {},
     "output_type": "execute_result"
    }
   ],
   "source": [
    "y_pred"
   ]
  },
  {
   "cell_type": "code",
   "execution_count": null,
   "id": "d7fe682c",
   "metadata": {},
   "outputs": [],
   "source": [
    "### 2-layer LSTM with dropout (rate = 0.3)\n",
    "\n",
    "model2 = Sequential()\n",
    "model2.add(LSTM(units=32, input_shape=(timestep, n_features),\n",
    "                 return_sequences=True, stateful=False))\n",
    "model2.add(Dropout(rate=0.3))\n",
    "model2.add(LSTM(units=16))\n",
    "model2.add(Dropout(rate=0.3))\n",
    "model2.add(Dense(units=1))"
   ]
  },
  {
   "cell_type": "code",
   "execution_count": 22,
   "id": "026389d8",
   "metadata": {},
   "outputs": [
    {
     "name": "stdout",
     "output_type": "stream",
     "text": [
      "Model: \"sequential_1\"\n",
      "_________________________________________________________________\n",
      " Layer (type)                Output Shape              Param #   \n",
      "=================================================================\n",
      " lstm_1 (LSTM)               (None, 4, 32)             19712     \n",
      "                                                                 \n",
      " dropout (Dropout)           (None, 4, 32)             0         \n",
      "                                                                 \n",
      " lstm_2 (LSTM)               (None, 16)                3136      \n",
      "                                                                 \n",
      " dropout_1 (Dropout)         (None, 16)                0         \n",
      "                                                                 \n",
      " dense_1 (Dense)             (None, 1)                 17        \n",
      "                                                                 \n",
      "=================================================================\n",
      "Total params: 22,865\n",
      "Trainable params: 22,865\n",
      "Non-trainable params: 0\n",
      "_________________________________________________________________\n"
     ]
    }
   ],
   "source": [
    "model2.compile(loss='mse', optimizer='adam')\n",
    "model2.summary()"
   ]
  },
  {
   "cell_type": "code",
   "execution_count": null,
   "id": "0ffd31de",
   "metadata": {},
   "outputs": [
    {
     "name": "stdout",
     "output_type": "stream",
     "text": [
      "Epoch 1/100\n",
      "10/10 - 6s - loss: 0.1428 - 6s/epoch - 628ms/step\n",
      "Epoch 2/100\n",
      "10/10 - 0s - loss: 0.0498 - 55ms/epoch - 6ms/step\n",
      "Epoch 3/100\n",
      "10/10 - 0s - loss: 0.0385 - 54ms/epoch - 5ms/step\n",
      "Epoch 4/100\n",
      "10/10 - 0s - loss: 0.0294 - 57ms/epoch - 6ms/step\n",
      "Epoch 5/100\n",
      "10/10 - 0s - loss: 0.0278 - 58ms/epoch - 6ms/step\n",
      "Epoch 6/100\n",
      "10/10 - 0s - loss: 0.0254 - 60ms/epoch - 6ms/step\n",
      "Epoch 7/100\n",
      "10/10 - 0s - loss: 0.0261 - 63ms/epoch - 6ms/step\n",
      "Epoch 8/100\n",
      "10/10 - 0s - loss: 0.0273 - 56ms/epoch - 6ms/step\n",
      "Epoch 9/100\n",
      "10/10 - 0s - loss: 0.0288 - 55ms/epoch - 6ms/step\n",
      "Epoch 10/100\n",
      "10/10 - 0s - loss: 0.0253 - 54ms/epoch - 5ms/step\n",
      "Epoch 11/100\n",
      "10/10 - 0s - loss: 0.0247 - 54ms/epoch - 5ms/step\n",
      "Epoch 12/100\n",
      "10/10 - 0s - loss: 0.0232 - 54ms/epoch - 5ms/step\n",
      "Epoch 13/100\n",
      "10/10 - 0s - loss: 0.0208 - 57ms/epoch - 6ms/step\n",
      "Epoch 14/100\n",
      "10/10 - 0s - loss: 0.0229 - 61ms/epoch - 6ms/step\n",
      "Epoch 15/100\n",
      "10/10 - 0s - loss: 0.0233 - 65ms/epoch - 7ms/step\n",
      "Epoch 16/100\n",
      "10/10 - 0s - loss: 0.0220 - 65ms/epoch - 7ms/step\n",
      "Epoch 17/100\n",
      "10/10 - 0s - loss: 0.0223 - 59ms/epoch - 6ms/step\n",
      "Epoch 18/100\n",
      "10/10 - 0s - loss: 0.0216 - 56ms/epoch - 6ms/step\n",
      "Epoch 19/100\n",
      "10/10 - 0s - loss: 0.0214 - 56ms/epoch - 6ms/step\n",
      "Epoch 20/100\n",
      "10/10 - 0s - loss: 0.0222 - 54ms/epoch - 5ms/step\n",
      "Epoch 21/100\n",
      "10/10 - 0s - loss: 0.0194 - 57ms/epoch - 6ms/step\n",
      "Epoch 22/100\n",
      "10/10 - 0s - loss: 0.0236 - 56ms/epoch - 6ms/step\n",
      "Epoch 23/100\n",
      "10/10 - 0s - loss: 0.0228 - 56ms/epoch - 6ms/step\n",
      "Epoch 24/100\n",
      "10/10 - 0s - loss: 0.0191 - 70ms/epoch - 7ms/step\n",
      "Epoch 25/100\n",
      "10/10 - 0s - loss: 0.0207 - 72ms/epoch - 7ms/step\n",
      "Epoch 26/100\n",
      "10/10 - 0s - loss: 0.0202 - 66ms/epoch - 7ms/step\n",
      "Epoch 27/100\n",
      "10/10 - 0s - loss: 0.0217 - 59ms/epoch - 6ms/step\n",
      "Epoch 28/100\n",
      "10/10 - 0s - loss: 0.0211 - 60ms/epoch - 6ms/step\n",
      "Epoch 29/100\n",
      "10/10 - 0s - loss: 0.0212 - 60ms/epoch - 6ms/step\n",
      "Epoch 30/100\n",
      "10/10 - 0s - loss: 0.0203 - 54ms/epoch - 5ms/step\n",
      "Epoch 31/100\n",
      "10/10 - 0s - loss: 0.0200 - 57ms/epoch - 6ms/step\n",
      "Epoch 32/100\n",
      "10/10 - 0s - loss: 0.0203 - 56ms/epoch - 6ms/step\n",
      "Epoch 33/100\n",
      "10/10 - 0s - loss: 0.0195 - 54ms/epoch - 5ms/step\n",
      "Epoch 34/100\n",
      "10/10 - 0s - loss: 0.0192 - 58ms/epoch - 6ms/step\n",
      "Epoch 35/100\n",
      "10/10 - 0s - loss: 0.0207 - 55ms/epoch - 6ms/step\n",
      "Epoch 36/100\n",
      "10/10 - 0s - loss: 0.0191 - 55ms/epoch - 6ms/step\n",
      "Epoch 37/100\n",
      "10/10 - 0s - loss: 0.0184 - 56ms/epoch - 6ms/step\n",
      "Epoch 38/100\n",
      "10/10 - 0s - loss: 0.0177 - 56ms/epoch - 6ms/step\n",
      "Epoch 39/100\n",
      "10/10 - 0s - loss: 0.0168 - 55ms/epoch - 6ms/step\n",
      "Epoch 40/100\n",
      "10/10 - 0s - loss: 0.0192 - 60ms/epoch - 6ms/step\n",
      "Epoch 41/100\n",
      "10/10 - 0s - loss: 0.0186 - 59ms/epoch - 6ms/step\n",
      "Epoch 42/100\n",
      "10/10 - 0s - loss: 0.0186 - 60ms/epoch - 6ms/step\n",
      "Epoch 43/100\n",
      "10/10 - 0s - loss: 0.0178 - 63ms/epoch - 6ms/step\n",
      "Epoch 44/100\n",
      "10/10 - 0s - loss: 0.0178 - 57ms/epoch - 6ms/step\n",
      "Epoch 45/100\n",
      "10/10 - 0s - loss: 0.0178 - 54ms/epoch - 5ms/step\n",
      "Epoch 46/100\n",
      "10/10 - 0s - loss: 0.0179 - 54ms/epoch - 5ms/step\n",
      "Epoch 47/100\n",
      "10/10 - 0s - loss: 0.0170 - 56ms/epoch - 6ms/step\n",
      "Epoch 48/100\n",
      "10/10 - 0s - loss: 0.0174 - 56ms/epoch - 6ms/step\n",
      "Epoch 49/100\n",
      "10/10 - 0s - loss: 0.0173 - 57ms/epoch - 6ms/step\n",
      "Epoch 50/100\n",
      "10/10 - 0s - loss: 0.0172 - 55ms/epoch - 6ms/step\n",
      "Epoch 51/100\n",
      "10/10 - 0s - loss: 0.0142 - 55ms/epoch - 6ms/step\n",
      "Epoch 52/100\n",
      "10/10 - 0s - loss: 0.0163 - 54ms/epoch - 5ms/step\n",
      "Epoch 53/100\n",
      "10/10 - 0s - loss: 0.0176 - 55ms/epoch - 6ms/step\n",
      "Epoch 54/100\n",
      "10/10 - 0s - loss: 0.0162 - 59ms/epoch - 6ms/step\n",
      "Epoch 55/100\n",
      "10/10 - 0s - loss: 0.0159 - 58ms/epoch - 6ms/step\n",
      "Epoch 56/100\n",
      "10/10 - 0s - loss: 0.0170 - 56ms/epoch - 6ms/step\n",
      "Epoch 57/100\n",
      "10/10 - 0s - loss: 0.0174 - 59ms/epoch - 6ms/step\n",
      "Epoch 58/100\n",
      "10/10 - 0s - loss: 0.0164 - 57ms/epoch - 6ms/step\n",
      "Epoch 59/100\n",
      "10/10 - 0s - loss: 0.0159 - 67ms/epoch - 7ms/step\n",
      "Epoch 60/100\n",
      "10/10 - 0s - loss: 0.0167 - 65ms/epoch - 7ms/step\n",
      "Epoch 61/100\n",
      "10/10 - 0s - loss: 0.0152 - 62ms/epoch - 6ms/step\n",
      "Epoch 62/100\n",
      "10/10 - 0s - loss: 0.0159 - 60ms/epoch - 6ms/step\n",
      "Epoch 63/100\n",
      "10/10 - 0s - loss: 0.0146 - 55ms/epoch - 6ms/step\n",
      "Epoch 64/100\n",
      "10/10 - 0s - loss: 0.0152 - 56ms/epoch - 6ms/step\n",
      "Epoch 65/100\n",
      "10/10 - 0s - loss: 0.0154 - 56ms/epoch - 6ms/step\n",
      "Epoch 66/100\n",
      "10/10 - 0s - loss: 0.0157 - 54ms/epoch - 5ms/step\n",
      "Epoch 67/100\n",
      "10/10 - 0s - loss: 0.0156 - 56ms/epoch - 6ms/step\n",
      "Epoch 68/100\n",
      "10/10 - 0s - loss: 0.0143 - 58ms/epoch - 6ms/step\n",
      "Epoch 69/100\n",
      "10/10 - 0s - loss: 0.0145 - 65ms/epoch - 7ms/step\n",
      "Epoch 70/100\n",
      "10/10 - 0s - loss: 0.0151 - 65ms/epoch - 7ms/step\n",
      "Epoch 71/100\n",
      "10/10 - 0s - loss: 0.0145 - 65ms/epoch - 7ms/step\n",
      "Epoch 72/100\n",
      "10/10 - 0s - loss: 0.0136 - 65ms/epoch - 7ms/step\n",
      "Epoch 73/100\n",
      "10/10 - 0s - loss: 0.0145 - 63ms/epoch - 6ms/step\n",
      "Epoch 74/100\n",
      "10/10 - 0s - loss: 0.0142 - 59ms/epoch - 6ms/step\n",
      "Epoch 75/100\n",
      "10/10 - 0s - loss: 0.0145 - 61ms/epoch - 6ms/step\n",
      "Epoch 76/100\n",
      "10/10 - 0s - loss: 0.0144 - 54ms/epoch - 5ms/step\n",
      "Epoch 77/100\n",
      "10/10 - 0s - loss: 0.0140 - 53ms/epoch - 5ms/step\n",
      "Epoch 78/100\n",
      "10/10 - 0s - loss: 0.0139 - 58ms/epoch - 6ms/step\n",
      "Epoch 79/100\n",
      "10/10 - 0s - loss: 0.0144 - 56ms/epoch - 6ms/step\n",
      "Epoch 80/100\n",
      "10/10 - 0s - loss: 0.0134 - 54ms/epoch - 5ms/step\n",
      "Epoch 81/100\n",
      "10/10 - 0s - loss: 0.0152 - 56ms/epoch - 6ms/step\n",
      "Epoch 82/100\n",
      "10/10 - 0s - loss: 0.0135 - 55ms/epoch - 6ms/step\n",
      "Epoch 83/100\n",
      "10/10 - 0s - loss: 0.0140 - 55ms/epoch - 6ms/step\n",
      "Epoch 84/100\n",
      "10/10 - 0s - loss: 0.0129 - 56ms/epoch - 6ms/step\n",
      "Epoch 85/100\n",
      "10/10 - 0s - loss: 0.0141 - 59ms/epoch - 6ms/step\n",
      "Epoch 86/100\n",
      "10/10 - 0s - loss: 0.0134 - 58ms/epoch - 6ms/step\n",
      "Epoch 87/100\n",
      "10/10 - 0s - loss: 0.0126 - 56ms/epoch - 6ms/step\n",
      "Epoch 88/100\n",
      "10/10 - 0s - loss: 0.0135 - 55ms/epoch - 6ms/step\n",
      "Epoch 89/100\n",
      "10/10 - 0s - loss: 0.0128 - 54ms/epoch - 5ms/step\n",
      "Epoch 90/100\n",
      "10/10 - 0s - loss: 0.0139 - 58ms/epoch - 6ms/step\n",
      "Epoch 91/100\n",
      "10/10 - 0s - loss: 0.0129 - 58ms/epoch - 6ms/step\n",
      "Epoch 92/100\n",
      "10/10 - 0s - loss: 0.0129 - 55ms/epoch - 6ms/step\n",
      "Epoch 93/100\n",
      "10/10 - 0s - loss: 0.0130 - 55ms/epoch - 6ms/step\n",
      "Epoch 94/100\n",
      "10/10 - 0s - loss: 0.0133 - 59ms/epoch - 6ms/step\n",
      "Epoch 95/100\n",
      "10/10 - 0s - loss: 0.0133 - 60ms/epoch - 6ms/step\n",
      "Epoch 96/100\n",
      "10/10 - 0s - loss: 0.0134 - 56ms/epoch - 6ms/step\n",
      "Epoch 97/100\n",
      "10/10 - 0s - loss: 0.0129 - 57ms/epoch - 6ms/step\n",
      "Epoch 98/100\n",
      "10/10 - 0s - loss: 0.0138 - 54ms/epoch - 5ms/step\n",
      "Epoch 99/100\n",
      "10/10 - 0s - loss: 0.0129 - 55ms/epoch - 6ms/step\n",
      "Epoch 100/100\n",
      "10/10 - 0s - loss: 0.0131 - 55ms/epoch - 6ms/step\n"
     ]
    },
    {
     "data": {
      "text/plain": [
       "<keras.callbacks.History at 0x27d41995a00>"
      ]
     },
     "execution_count": 23,
     "metadata": {},
     "output_type": "execute_result"
    }
   ],
   "source": [
    "### 모델 학습\n",
    "\n",
    "model2.fit(X_train, y_train, epochs=100, batch_size=50, shuffle=False, verbose=2)"
   ]
  },
  {
   "cell_type": "code",
   "execution_count": null,
   "id": "dbc5a82b",
   "metadata": {},
   "outputs": [
    {
     "name": "stdout",
     "output_type": "stream",
     "text": [
      "1/1 [==============================] - 1s 1s/step\n"
     ]
    }
   ],
   "source": [
    "### 예측\n",
    "\n",
    "h_step_ahead_pred2 = model2.predict(X_out_arr)"
   ]
  },
  {
   "cell_type": "code",
   "execution_count": null,
   "id": "5199899c",
   "metadata": {},
   "outputs": [],
   "source": [
    "### Denormalize하여 예측값 생성\n",
    "\n",
    "y_pred2 = denormalize(h_step_ahead_pred2, y_min, y_max)"
   ]
  },
  {
   "cell_type": "code",
   "execution_count": 26,
   "id": "8bdf0520",
   "metadata": {},
   "outputs": [
    {
     "data": {
      "text/plain": [
       "array([[0.53835905]], dtype=float32)"
      ]
     },
     "execution_count": 26,
     "metadata": {},
     "output_type": "execute_result"
    }
   ],
   "source": [
    "h_step_ahead_pred2"
   ]
  }
 ],
 "metadata": {
  "kernelspec": {
   "display_name": "tf",
   "language": "python",
   "name": "python3"
  },
  "language_info": {
   "codemirror_mode": {
    "name": "ipython",
    "version": 3
   },
   "file_extension": ".py",
   "mimetype": "text/x-python",
   "name": "python",
   "nbconvert_exporter": "python",
   "pygments_lexer": "ipython3",
   "version": "3.8.18"
  }
 },
 "nbformat": 4,
 "nbformat_minor": 5
}
